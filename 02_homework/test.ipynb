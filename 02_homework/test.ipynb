{
 "cells": [
  {
   "attachments": {},
   "cell_type": "markdown",
   "metadata": {},
   "source": []
  },
  {
   "cell_type": "code",
   "execution_count": 13,
   "metadata": {},
   "outputs": [],
   "source": [
    "import mlflow\n",
    "from mlflow.tracking import MlflowClient"
   ]
  },
  {
   "cell_type": "code",
   "execution_count": 87,
   "metadata": {},
   "outputs": [],
   "source": [
    "client = MlflowClient()\n",
    "HPO_EXPERIMENT_NAME = \"random-forest-hyperopt\"\n",
    "EXPERIMENT_NAME = \"random-forest-best-models\"\n",
    "experiment = client.get_experiment_by_name(EXPERIMENT_NAME)\n"
   ]
  },
  {
   "cell_type": "code",
   "execution_count": 88,
   "metadata": {},
   "outputs": [
    {
     "data": {
      "text/plain": [
       "[<Run: data=<RunData: metrics={'test_rmse': 2.2913864757421787,\n",
       "  'training_mean_absolute_error': 1.4208732651603648,\n",
       "  'training_mean_squared_error': 3.8865885851691204,\n",
       "  'training_r2_score': 0.27166704840687694,\n",
       "  'training_root_mean_squared_error': 1.9714432746516244,\n",
       "  'training_score': 0.27166704840687694,\n",
       "  'val_rmse': 2.455971238567075}, params={'bootstrap': 'True',\n",
       "  'ccp_alpha': '0.0',\n",
       "  'criterion': 'squared_error',\n",
       "  'max_depth': '19',\n",
       "  'max_features': '1.0',\n",
       "  'max_leaf_nodes': 'None',\n",
       "  'max_samples': 'None',\n",
       "  'min_impurity_decrease': '0.0',\n",
       "  'min_samples_leaf': '4',\n",
       "  'min_samples_split': '10',\n",
       "  'min_weight_fraction_leaf': '0.0',\n",
       "  'n_estimators': '12',\n",
       "  'n_jobs': '-1',\n",
       "  'oob_score': 'False',\n",
       "  'random_state': '42',\n",
       "  'verbose': '0',\n",
       "  'warm_start': 'False'}, tags={'estimator_class': 'sklearn.ensemble._forest.RandomForestRegressor',\n",
       "  'estimator_name': 'RandomForestRegressor',\n",
       "  'mlflow.log-model.history': '[{\"run_id\": \"e30121e156ab4ac29067cb60b231492a\", '\n",
       "                              '\"artifact_path\": \"model\", \"utc_time_created\": '\n",
       "                              '\"2023-06-01 12:32:44.604297\", \"flavors\": '\n",
       "                              '{\"python_function\": {\"model_path\": \"model.pkl\", '\n",
       "                              '\"predict_fn\": \"predict\", \"loader_module\": '\n",
       "                              '\"mlflow.sklearn\", \"python_version\": \"3.9.16\", '\n",
       "                              '\"env\": {\"conda\": \"conda.yaml\", \"virtualenv\": '\n",
       "                              '\"python_env.yaml\"}}, \"sklearn\": '\n",
       "                              '{\"pickled_model\": \"model.pkl\", '\n",
       "                              '\"sklearn_version\": \"1.2.2\", '\n",
       "                              '\"serialization_format\": \"cloudpickle\", \"code\": '\n",
       "                              'null}}, \"model_uuid\": '\n",
       "                              '\"fa1c9ca153db4a7fb896d9a330f44ff5\", '\n",
       "                              '\"mlflow_version\": \"2.3.2\", \"signature\": '\n",
       "                              '{\"inputs\": \"[{\\\\\"type\\\\\": \\\\\"tensor\\\\\", '\n",
       "                              '\\\\\"tensor-spec\\\\\": {\\\\\"dtype\\\\\": \\\\\"float64\\\\\", '\n",
       "                              '\\\\\"shape\\\\\": [-1, 6683]}}]\", \"outputs\": '\n",
       "                              '\"[{\\\\\"type\\\\\": \\\\\"tensor\\\\\", \\\\\"tensor-spec\\\\\": '\n",
       "                              '{\\\\\"dtype\\\\\": \\\\\"float64\\\\\", \\\\\"shape\\\\\": '\n",
       "                              '[-1]}}]\"}}]',\n",
       "  'mlflow.runName': 'upbeat-wolf-382',\n",
       "  'mlflow.source.git.commit': 'bae1dc5b6042121c5df7a2d2eba15aaaccd75988',\n",
       "  'mlflow.source.name': 'register_model.py',\n",
       "  'mlflow.source.type': 'LOCAL',\n",
       "  'mlflow.user': 'anis'}>, info=<RunInfo: artifact_uri='mlflow-artifacts:/883981807982695476/e30121e156ab4ac29067cb60b231492a/artifacts', end_time=1685622766345, experiment_id='883981807982695476', lifecycle_stage='active', run_id='e30121e156ab4ac29067cb60b231492a', run_name='upbeat-wolf-382', run_uuid='e30121e156ab4ac29067cb60b231492a', start_time=1685622763842, status='FINISHED', user_id='anis'>>,\n",
       " <Run: data=<RunData: metrics={'test_rmse': 2.2989550579001428,\n",
       "  'training_mean_absolute_error': 1.4710628699258734,\n",
       "  'training_mean_squared_error': 3.977942629113193,\n",
       "  'training_r2_score': 0.25454762374751105,\n",
       "  'training_root_mean_squared_error': 1.9944780342518673,\n",
       "  'training_score': 0.25454762374751105,\n",
       "  'val_rmse': 2.453877262701052}, params={'bootstrap': 'True',\n",
       "  'ccp_alpha': '0.0',\n",
       "  'criterion': 'squared_error',\n",
       "  'max_depth': '11',\n",
       "  'max_features': '1.0',\n",
       "  'max_leaf_nodes': 'None',\n",
       "  'max_samples': 'None',\n",
       "  'min_impurity_decrease': '0.0',\n",
       "  'min_samples_leaf': '2',\n",
       "  'min_samples_split': '5',\n",
       "  'min_weight_fraction_leaf': '0.0',\n",
       "  'n_estimators': '22',\n",
       "  'n_jobs': '-1',\n",
       "  'oob_score': 'False',\n",
       "  'random_state': '42',\n",
       "  'verbose': '0',\n",
       "  'warm_start': 'False'}, tags={'estimator_class': 'sklearn.ensemble._forest.RandomForestRegressor',\n",
       "  'estimator_name': 'RandomForestRegressor',\n",
       "  'mlflow.log-model.history': '[{\"run_id\": \"093b7557d02b4cb2a60da84f01eec568\", '\n",
       "                              '\"artifact_path\": \"model\", \"utc_time_created\": '\n",
       "                              '\"2023-06-01 12:32:42.274141\", \"flavors\": '\n",
       "                              '{\"python_function\": {\"model_path\": \"model.pkl\", '\n",
       "                              '\"predict_fn\": \"predict\", \"loader_module\": '\n",
       "                              '\"mlflow.sklearn\", \"python_version\": \"3.9.16\", '\n",
       "                              '\"env\": {\"conda\": \"conda.yaml\", \"virtualenv\": '\n",
       "                              '\"python_env.yaml\"}}, \"sklearn\": '\n",
       "                              '{\"pickled_model\": \"model.pkl\", '\n",
       "                              '\"sklearn_version\": \"1.2.2\", '\n",
       "                              '\"serialization_format\": \"cloudpickle\", \"code\": '\n",
       "                              'null}}, \"model_uuid\": '\n",
       "                              '\"befe7e1448b541a2b81a9c4fa691e40b\", '\n",
       "                              '\"mlflow_version\": \"2.3.2\", \"signature\": '\n",
       "                              '{\"inputs\": \"[{\\\\\"type\\\\\": \\\\\"tensor\\\\\", '\n",
       "                              '\\\\\"tensor-spec\\\\\": {\\\\\"dtype\\\\\": \\\\\"float64\\\\\", '\n",
       "                              '\\\\\"shape\\\\\": [-1, 6683]}}]\", \"outputs\": '\n",
       "                              '\"[{\\\\\"type\\\\\": \\\\\"tensor\\\\\", \\\\\"tensor-spec\\\\\": '\n",
       "                              '{\\\\\"dtype\\\\\": \\\\\"float64\\\\\", \\\\\"shape\\\\\": '\n",
       "                              '[-1]}}]\"}}]',\n",
       "  'mlflow.runName': 'skillful-crane-111',\n",
       "  'mlflow.source.git.commit': 'bae1dc5b6042121c5df7a2d2eba15aaaccd75988',\n",
       "  'mlflow.source.name': 'register_model.py',\n",
       "  'mlflow.source.type': 'LOCAL',\n",
       "  'mlflow.user': 'anis'}>, info=<RunInfo: artifact_uri='mlflow-artifacts:/883981807982695476/093b7557d02b4cb2a60da84f01eec568/artifacts', end_time=1685622763835, experiment_id='883981807982695476', lifecycle_stage='active', run_id='093b7557d02b4cb2a60da84f01eec568', run_name='skillful-crane-111', run_uuid='093b7557d02b4cb2a60da84f01eec568', start_time=1685622761584, status='FINISHED', user_id='anis'>>]"
      ]
     },
     "execution_count": 88,
     "metadata": {},
     "output_type": "execute_result"
    }
   ],
   "source": [
    "runs = client.search_runs(\n",
    "        experiment_ids=experiment.experiment_id,\n",
    "        # run_view_type=ViewType.ACTIVE_ONLY,\n",
    "        max_results=2,\n",
    "        order_by=[\"metrics.rmse ASC\"]\n",
    "    )\n",
    "runs"
   ]
  },
  {
   "cell_type": "code",
   "execution_count": 84,
   "metadata": {},
   "outputs": [],
   "source": [
    "experiment = client.get_experiment_by_name(EXPERIMENT_NAME)\n"
   ]
  },
  {
   "cell_type": "code",
   "execution_count": null,
   "metadata": {},
   "outputs": [],
   "source": []
  },
  {
   "cell_type": "code",
   "execution_count": 85,
   "metadata": {},
   "outputs": [
    {
     "data": {
      "text/plain": [
       "'e30121e156ab4ac29067cb60b231492a'"
      ]
     },
     "execution_count": 85,
     "metadata": {},
     "output_type": "execute_result"
    }
   ],
   "source": [
    "client.search_runs(experiment_ids=[experiment.experiment_id])[0].info.run_id"
   ]
  },
  {
   "cell_type": "code",
   "execution_count": null,
   "metadata": {},
   "outputs": [],
   "source": []
  },
  {
   "cell_type": "code",
   "execution_count": 70,
   "metadata": {},
   "outputs": [
    {
     "data": {
      "text/plain": [
       "[<Run: data=<RunData: metrics={'test_rmse': 2.2854691906481364,\n",
       "  'training_mean_absolute_error': 1.4410764513945242,\n",
       "  'training_mean_squared_error': 3.948112551107436,\n",
       "  'training_r2_score': 0.26013767483835504,\n",
       "  'training_root_mean_squared_error': 1.9869857953964936,\n",
       "  'training_score': 0.26013767483835504,\n",
       "  'val_rmse': 2.449827329704216}, params={'bootstrap': 'True',\n",
       "  'ccp_alpha': '0.0',\n",
       "  'criterion': 'squared_error',\n",
       "  'max_depth': '15',\n",
       "  'max_features': '1.0',\n",
       "  'max_leaf_nodes': 'None',\n",
       "  'max_samples': 'None',\n",
       "  'min_impurity_decrease': '0.0',\n",
       "  'min_samples_leaf': '4',\n",
       "  'min_samples_split': '2',\n",
       "  'min_weight_fraction_leaf': '0.0',\n",
       "  'n_estimators': '34',\n",
       "  'n_jobs': '-1',\n",
       "  'oob_score': 'False',\n",
       "  'random_state': '42',\n",
       "  'verbose': '0',\n",
       "  'warm_start': 'False'}, tags={'estimator_class': 'sklearn.ensemble._forest.RandomForestRegressor',\n",
       "  'estimator_name': 'RandomForestRegressor',\n",
       "  'mlflow.log-model.history': '[{\"run_id\": \"8342b37f9d49480d82d201d2958e617a\", '\n",
       "                              '\"artifact_path\": \"model\", \"utc_time_created\": '\n",
       "                              '\"2023-06-01 12:32:34.501786\", \"flavors\": '\n",
       "                              '{\"python_function\": {\"model_path\": \"model.pkl\", '\n",
       "                              '\"predict_fn\": \"predict\", \"loader_module\": '\n",
       "                              '\"mlflow.sklearn\", \"python_version\": \"3.9.16\", '\n",
       "                              '\"env\": {\"conda\": \"conda.yaml\", \"virtualenv\": '\n",
       "                              '\"python_env.yaml\"}}, \"sklearn\": '\n",
       "                              '{\"pickled_model\": \"model.pkl\", '\n",
       "                              '\"sklearn_version\": \"1.2.2\", '\n",
       "                              '\"serialization_format\": \"cloudpickle\", \"code\": '\n",
       "                              'null}}, \"model_uuid\": '\n",
       "                              '\"5df2774adce342dda1861f626e9676e7\", '\n",
       "                              '\"mlflow_version\": \"2.3.2\", \"signature\": '\n",
       "                              '{\"inputs\": \"[{\\\\\"type\\\\\": \\\\\"tensor\\\\\", '\n",
       "                              '\\\\\"tensor-spec\\\\\": {\\\\\"dtype\\\\\": \\\\\"float64\\\\\", '\n",
       "                              '\\\\\"shape\\\\\": [-1, 6683]}}]\", \"outputs\": '\n",
       "                              '\"[{\\\\\"type\\\\\": \\\\\"tensor\\\\\", \\\\\"tensor-spec\\\\\": '\n",
       "                              '{\\\\\"dtype\\\\\": \\\\\"float64\\\\\", \\\\\"shape\\\\\": '\n",
       "                              '[-1]}}]\"}}]',\n",
       "  'mlflow.runName': 'languid-snipe-530',\n",
       "  'mlflow.source.git.commit': 'bae1dc5b6042121c5df7a2d2eba15aaaccd75988',\n",
       "  'mlflow.source.name': 'register_model.py',\n",
       "  'mlflow.source.type': 'LOCAL',\n",
       "  'mlflow.user': 'anis'}>, info=<RunInfo: artifact_uri='mlflow-artifacts:/883981807982695476/8342b37f9d49480d82d201d2958e617a/artifacts', end_time=1685622756381, experiment_id='883981807982695476', lifecycle_stage='active', run_id='8342b37f9d49480d82d201d2958e617a', run_name='languid-snipe-530', run_uuid='8342b37f9d49480d82d201d2958e617a', start_time=1685622753588, status='FINISHED', user_id='anis'>>]"
      ]
     },
     "execution_count": 70,
     "metadata": {},
     "output_type": "execute_result"
    }
   ],
   "source": [
    "# run_id = \n",
    "# model_uri = f\"runs:/{run_id}/model\"\n",
    "# mlflow.register_model(model_uri=model_uri, name=\"nyc-taxi-regressor\")"
   ]
  },
  {
   "cell_type": "code",
   "execution_count": 81,
   "metadata": {},
   "outputs": [
    {
     "data": {
      "text/plain": [
       "'8342b37f9d49480d82d201d2958e617a'"
      ]
     },
     "execution_count": 81,
     "metadata": {},
     "output_type": "execute_result"
    }
   ],
   "source": [
    "experiment = client.get_experiment_by_name(EXPERIMENT_NAME)\n",
    "\n"
   ]
  },
  {
   "cell_type": "code",
   "execution_count": 89,
   "metadata": {},
   "outputs": [
    {
     "name": "stdout",
     "output_type": "stream",
     "text": [
      "Il y a une différence significative entre les groupes.\n",
      "Statistique de test : 5.333333333333329\n",
      "Valeur p : 0.020921335337794052\n"
     ]
    }
   ],
   "source": [
    "import pandas as pd\n",
    "import scipy.stats as stats\n",
    "\n",
    "# Créer un dataframe avec les données\n",
    "data = pd.DataFrame({'sex': ['M', 'F', 'M', 'F', 'M', 'M', 'F', 'F'],\n",
    "                     'prix': [10, 15, 8, 12, 9, 11, 14, 13]})\n",
    "\n",
    "# Effectuer le test de Kruskal-Wallis\n",
    "result = stats.kruskal(*[group['prix'].values for _, group in data.groupby('sex')])\n",
    "\n",
    "# Afficher le résultat du test\n",
    "alpha = 0.05  # Niveau de signification\n",
    "if result.pvalue > alpha:\n",
    "    print(\"Il n'y a pas de différence significative entre les groupes.\")\n",
    "else:\n",
    "    print(\"Il y a une différence significative entre les groupes.\")\n",
    "\n",
    "# Afficher les statistiques de test\n",
    "print(\"Statistique de test :\", result.statistic)\n",
    "print(\"Valeur p :\", result.pvalue)\n"
   ]
  },
  {
   "cell_type": "code",
   "execution_count": 90,
   "metadata": {},
   "outputs": [
    {
     "data": {
      "text/plain": [
       "[array([15, 12, 14, 13]), array([10,  8,  9, 11])]"
      ]
     },
     "execution_count": 90,
     "metadata": {},
     "output_type": "execute_result"
    }
   ],
   "source": [
    "[group['prix'].values for _, group in data.groupby('sex')]"
   ]
  },
  {
   "cell_type": "code",
   "execution_count": null,
   "metadata": {},
   "outputs": [],
   "source": []
  }
 ],
 "metadata": {
  "kernelspec": {
   "display_name": "zoomcamp",
   "language": "python",
   "name": "python3"
  },
  "language_info": {
   "codemirror_mode": {
    "name": "ipython",
    "version": 3
   },
   "file_extension": ".py",
   "mimetype": "text/x-python",
   "name": "python",
   "nbconvert_exporter": "python",
   "pygments_lexer": "ipython3",
   "version": "3.9.16"
  },
  "orig_nbformat": 4
 },
 "nbformat": 4,
 "nbformat_minor": 2
}
